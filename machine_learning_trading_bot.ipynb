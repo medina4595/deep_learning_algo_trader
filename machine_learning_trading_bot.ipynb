  {
   "cell_type": "markdown",
   "source": [
    "---\n",
    "\n",
    "## Establish a Baseline Performance\n",
    "\n",
    "In this section, you’ll run the provided starter code to establish a baseline performance for the trading algorithm. To do so, complete the following steps.\n",
    "\n",
    "Open the Jupyter notebook. Restart the kernel, run the provided cells that correspond with the first three steps, and then proceed to step four. \n"
   ],
   "metadata": {}
  },
  {
   "cell_type": "markdown",
   "source": [
    "### Step 1: mport the OHLCV dataset into a Pandas DataFrame."
   ],
   "metadata": {}
  },
  {
   "cell_type": "code",
   "execution_count": 189,
   "source": [
    "# Import the OHLCV dataset into a Pandas Dataframe\r\n",
    "ohlcv_df = pd.read_csv(\r\n",
    "    Path(\"./Resources/emerging_markets_ohlcv.csv\"), \r\n",
    "    index_col='date', \r\n",
    "    infer_datetime_format=True, \r\n",
    "    parse_dates=True\r\n",
    ")\r\n",
    "\r\n",
    "# Review the DataFrame\r\n",
    "ohlcv_df.head()"
   ],
   "outputs": [
    {
     "output_type": "execute_result",
     "data": {
      "text/html": [
       "<div>\n",
       "<style scoped>\n",
       "    .dataframe tbody tr th:only-of-type {\n",
       "        vertical-align: middle;\n",
       "    }\n",
       "\n",
       "    .dataframe tbody tr th {\n",
       "        vertical-align: top;\n",
       "    }\n",
       "\n",
       "    .dataframe thead th {\n",
       "        text-align: right;\n",
       "    }\n",
       "</style>\n",
       "<table border=\"1\" class=\"dataframe\">\n",
       "  <thead>\n",
       "    <tr style=\"text-align: right;\">\n",
       "      <th></th>\n",
       "      <th>open</th>\n",
       "      <th>high</th>\n",
       "      <th>low</th>\n",
       "      <th>close</th>\n",
       "      <th>volume</th>\n",
       "    </tr>\n",
       "    <tr>\n",
       "      <th>date</th>\n",
       "      <th></th>\n",
       "      <th></th>\n",
       "      <th></th>\n",
       "      <th></th>\n",
       "      <th></th>\n",
       "    </tr>\n",
       "  </thead>\n",
       "  <tbody>\n",
       "    <tr>\n",
       "      <th>2015-01-21 09:30:00</th>\n",
       "      <td>23.83</td>\n",
       "      <td>23.83</td>\n",
       "      <td>23.83</td>\n",
       "      <td>23.83</td>\n",
       "      <td>100</td>\n",
       "    </tr>\n",
       "    <tr>\n",
       "      <th>2015-01-21 11:00:00</th>\n",
       "      <td>23.98</td>\n",
       "      <td>23.98</td>\n",
       "      <td>23.98</td>\n",
       "      <td>23.98</td>\n",
       "      <td>100</td>\n",
       "    </tr>\n",
       "    <tr>\n",
       "      <th>2015-01-22 15:00:00</th>\n",
       "      <td>24.42</td>\n",
       "      <td>24.42</td>\n",
       "      <td>24.42</td>\n",
       "      <td>24.42</td>\n",
       "      <td>100</td>\n",
       "    </tr>\n",
       "    <tr>\n",
       "      <th>2015-01-22 15:15:00</th>\n",
       "      <td>24.42</td>\n",
       "      <td>24.44</td>\n",
       "      <td>24.42</td>\n",
       "      <td>24.44</td>\n",
       "      <td>200</td>\n",
       "    </tr>\n",
       "    <tr>\n",
       "      <th>2015-01-22 15:30:00</th>\n",
       "      <td>24.46</td>\n",
       "      <td>24.46</td>\n",
       "      <td>24.46</td>\n",
       "      <td>24.46</td>\n",
       "      <td>200</td>\n",
       "    </tr>\n",
       "  </tbody>\n",
       "</table>\n",
       "</div>"
      ],
      "text/plain": [
       "                      open   high    low  close  volume\n",
       "date                                                   \n",
       "2015-01-21 09:30:00  23.83  23.83  23.83  23.83     100\n",
       "2015-01-21 11:00:00  23.98  23.98  23.98  23.98     100\n",
       "2015-01-22 15:00:00  24.42  24.42  24.42  24.42     100\n",
       "2015-01-22 15:15:00  24.42  24.44  24.42  24.44     200\n",
       "2015-01-22 15:30:00  24.46  24.46  24.46  24.46     200"
      ]
     },
     "metadata": {},
     "execution_count": 189
    }
   ],
   "metadata": {}
  },
  {
   "cell_type": "code",
   "execution_count": 190,
   "source": [
    "# Filter the date index and close columns\r\n",
    "signals_df = ohlcv_df.loc[:, [\"close\"]]\r\n",
    "\r\n",
    "# Use the pct_change function to generate  returns from close prices\r\n",
    "signals_df[\"Actual Returns\"] = signals_df[\"close\"].pct_change()\r\n",
    "\r\n",
    "# Drop all NaN values from the DataFrame\r\n",
    "signals_df = signals_df.dropna()\r\n",
    "\r\n",
    "# Review the DataFrame\r\n",
    "display(signals_df.head())\r\n",
    "display(signals_df.tail())"
   ],
   "outputs": [
    {
     "output_type": "display_data",
     "data": {
      "text/html": [
       "<div>\n",
       "<style scoped>\n",
       "    .dataframe tbody tr th:only-of-type {\n",
       "        vertical-align: middle;\n",
       "    }\n",
       "\n",
       "    .dataframe tbody tr th {\n",
       "        vertical-align: top;\n",
       "    }\n",
       "\n",
       "    .dataframe thead th {\n",
       "        text-align: right;\n",
       "    }\n",
       "</style>\n",
       "<table border=\"1\" class=\"dataframe\">\n",
       "  <thead>\n",
       "    <tr style=\"text-align: right;\">\n",
       "      <th></th>\n",
       "      <th>close</th>\n",
       "      <th>Actual Returns</th>\n",
       "    </tr>\n",
       "    <tr>\n",
       "      <th>date</th>\n",
       "      <th></th>\n",
       "      <th></th>\n",
       "    </tr>\n",
       "  </thead>\n",
       "  <tbody>\n",
       "    <tr>\n",
       "      <th>2015-01-21 11:00:00</th>\n",
       "      <td>23.98</td>\n",
       "      <td>0.006295</td>\n",
       "    </tr>\n",
       "    <tr>\n",
       "      <th>2015-01-22 15:00:00</th>\n",
       "      <td>24.42</td>\n",
       "      <td>0.018349</td>\n",
       "    </tr>\n",
       "    <tr>\n",
       "      <th>2015-01-22 15:15:00</th>\n",
       "      <td>24.44</td>\n",
       "      <td>0.000819</td>\n",
       "    </tr>\n",
       "    <tr>\n",
       "      <th>2015-01-22 15:30:00</th>\n",
       "      <td>24.46</td>\n",
       "      <td>0.000818</td>\n",
       "    </tr>\n",
       "    <tr>\n",
       "      <th>2015-01-26 12:30:00</th>\n",
       "      <td>24.33</td>\n",
       "      <td>-0.005315</td>\n",
       "    </tr>\n",
       "  </tbody>\n",
       "</table>\n",
       "</div>"
      ],
      "text/plain": [
       "                     close  Actual Returns\n",
       "date                                      \n",
       "2015-01-21 11:00:00  23.98        0.006295\n",
       "2015-01-22 15:00:00  24.42        0.018349\n",
       "2015-01-22 15:15:00  24.44        0.000819\n",
       "2015-01-22 15:30:00  24.46        0.000818\n",
       "2015-01-26 12:30:00  24.33       -0.005315"
      ]
     },
     "metadata": {}
    },
    {
     "output_type": "display_data",
     "data": {
      "text/html": [
       "<div>\n",
       "<style scoped>\n",
       "    .dataframe tbody tr th:only-of-type {\n",
       "        vertical-align: middle;\n",
       "    }\n",
       "\n",
       "    .dataframe tbody tr th {\n",
       "        vertical-align: top;\n",
       "    }\n",
       "\n",
       "    .dataframe thead th {\n",
       "        text-align: right;\n",
       "    }\n",
       "</style>\n",
       "<table border=\"1\" class=\"dataframe\">\n",
       "  <thead>\n",
       "    <tr style=\"text-align: right;\">\n",
       "      <th></th>\n",
       "      <th>close</th>\n",
       "      <th>Actual Returns</th>\n",
       "    </tr>\n",
       "    <tr>\n",
       "      <th>date</th>\n",
       "      <th></th>\n",
       "      <th></th>\n",
       "    </tr>\n",
       "  </thead>\n",
       "  <tbody>\n",
       "    <tr>\n",
       "      <th>2021-01-22 09:30:00</th>\n",
       "      <td>33.27</td>\n",
       "      <td>-0.006866</td>\n",
       "    </tr>\n",
       "    <tr>\n",
       "      <th>2021-01-22 11:30:00</th>\n",
       "      <td>33.35</td>\n",
       "      <td>0.002405</td>\n",
       "    </tr>\n",
       "    <tr>\n",
       "      <th>2021-01-22 13:45:00</th>\n",
       "      <td>33.42</td>\n",
       "      <td>0.002099</td>\n",
       "    </tr>\n",
       "    <tr>\n",
       "      <th>2021-01-22 14:30:00</th>\n",
       "      <td>33.47</td>\n",
       "      <td>0.001496</td>\n",
       "    </tr>\n",
       "    <tr>\n",
       "      <th>2021-01-22 15:45:00</th>\n",
       "      <td>33.44</td>\n",
       "      <td>-0.000896</td>\n",
       "    </tr>\n",
       "  </tbody>\n",
       "</table>\n",
       "</div>"
      ],
      "text/plain": [
       "                     close  Actual Returns\n",
       "date                                      \n",
       "2021-01-22 09:30:00  33.27       -0.006866\n",
       "2021-01-22 11:30:00  33.35        0.002405\n",
       "2021-01-22 13:45:00  33.42        0.002099\n",
       "2021-01-22 14:30:00  33.47        0.001496\n",
       "2021-01-22 15:45:00  33.44       -0.000896"
      ]
     },
     "metadata": {}
    }
   ],
   "metadata": {}
  },
  {
   "cell_type": "markdown",
   "source": [
    "## Step 2: Generate trading signals using short- and long-window SMA values. "
   ],
   "metadata": {}
  },
  {
   "cell_type": "code",
   "execution_count": 287,
   "source": [
    "# Set the short window and long window\r\n",
    "short_window = 4\r\n",
    "long_window = 100\r\n",
    "\r\n",
    "# Generate the fast and slow simple moving averages (4 and 100 days, respectively)\r\n",
    "signals_df['SMA_Fast'] = signals_df['close'].rolling(window=short_window).mean()\r\n",
    "signals_df['SMA_Slow'] = signals_df['close'].rolling(window=long_window).mean()\r\n",
    "\r\n",
    "signals_df = signals_df.dropna()\r\n",
    "\r\n",
    "# Review the DataFrame\r\n",
    "display(signals_df.head())\r\n",
    "display(signals_df.tail())"
   ],
   "outputs": [
    {
     "output_type": "display_data",
     "data": {
      "text/html": [
       "<div>\n",
       "<style scoped>\n",
       "    .dataframe tbody tr th:only-of-type {\n",
       "        vertical-align: middle;\n",
       "    }\n",
       "\n",
       "    .dataframe tbody tr th {\n",
       "        vertical-align: top;\n",
       "    }\n",
       "\n",
       "    .dataframe thead th {\n",
       "        text-align: right;\n",
       "    }\n",
       "</style>\n",
       "<table border=\"1\" class=\"dataframe\">\n",
       "  <thead>\n",
       "    <tr style=\"text-align: right;\">\n",
       "      <th></th>\n",
       "      <th>close</th>\n",
       "      <th>Actual Returns</th>\n",
       "      <th>SMA_Fast</th>\n",
       "      <th>SMA_Slow</th>\n",
       "      <th>Signal</th>\n",
       "      <th>Strategy Returns</th>\n",
       "    </tr>\n",
       "    <tr>\n",
       "      <th>date</th>\n",
       "      <th></th>\n",
       "      <th></th>\n",
       "      <th></th>\n",
       "      <th></th>\n",
       "      <th></th>\n",
       "      <th></th>\n",
       "    </tr>\n",
       "  </thead>\n",
       "  <tbody>\n",
       "    <tr>\n",
       "      <th>2015-12-24 09:30:00</th>\n",
       "      <td>20.64</td>\n",
       "      <td>-0.006259</td>\n",
       "      <td>20.730000</td>\n",
       "      <td>20.2344</td>\n",
       "      <td>-1.0</td>\n",
       "      <td>0.006259</td>\n",
       "    </tr>\n",
       "    <tr>\n",
       "      <th>2015-12-24 09:45:00</th>\n",
       "      <td>20.75</td>\n",
       "      <td>0.005329</td>\n",
       "      <td>20.720000</td>\n",
       "      <td>20.2546</td>\n",
       "      <td>1.0</td>\n",
       "      <td>-0.005329</td>\n",
       "    </tr>\n",
       "    <tr>\n",
       "      <th>2015-12-24 10:45:00</th>\n",
       "      <td>20.77</td>\n",
       "      <td>0.000964</td>\n",
       "      <td>20.720000</td>\n",
       "      <td>20.2742</td>\n",
       "      <td>1.0</td>\n",
       "      <td>0.000964</td>\n",
       "    </tr>\n",
       "    <tr>\n",
       "      <th>2015-12-24 11:00:00</th>\n",
       "      <td>20.73</td>\n",
       "      <td>-0.001926</td>\n",
       "      <td>20.750000</td>\n",
       "      <td>20.2928</td>\n",
       "      <td>-1.0</td>\n",
       "      <td>-0.001926</td>\n",
       "    </tr>\n",
       "    <tr>\n",
       "      <th>2015-12-24 12:00:00</th>\n",
       "      <td>20.74</td>\n",
       "      <td>0.000482</td>\n",
       "      <td>20.746667</td>\n",
       "      <td>20.3154</td>\n",
       "      <td>1.0</td>\n",
       "      <td>-0.000482</td>\n",
       "    </tr>\n",
       "  </tbody>\n",
       "</table>\n",
       "</div>"
      ],
      "text/plain": [
       "                     close  Actual Returns   SMA_Fast  SMA_Slow  Signal  \\\n",
       "date                                                                      \n",
       "2015-12-24 09:30:00  20.64       -0.006259  20.730000   20.2344    -1.0   \n",
       "2015-12-24 09:45:00  20.75        0.005329  20.720000   20.2546     1.0   \n",
       "2015-12-24 10:45:00  20.77        0.000964  20.720000   20.2742     1.0   \n",
       "2015-12-24 11:00:00  20.73       -0.001926  20.750000   20.2928    -1.0   \n",
       "2015-12-24 12:00:00  20.74        0.000482  20.746667   20.3154     1.0   \n",
       "\n",
       "                     Strategy Returns  \n",
       "date                                   \n",
       "2015-12-24 09:30:00          0.006259  \n",
       "2015-12-24 09:45:00         -0.005329  \n",
       "2015-12-24 10:45:00          0.000964  \n",
       "2015-12-24 11:00:00         -0.001926  \n",
       "2015-12-24 12:00:00         -0.000482  "
      ]
     },
     "metadata": {}
    },
    {
     "output_type": "display_data",
     "data": {
      "text/html": [
       "<div>\n",
       "<style scoped>\n",
       "    .dataframe tbody tr th:only-of-type {\n",
       "        vertical-align: middle;\n",
       "    }\n",
       "\n",
       "    .dataframe tbody tr th {\n",
       "        vertical-align: top;\n",
       "    }\n",
       "\n",
       "    .dataframe thead th {\n",
       "        text-align: right;\n",
       "    }\n",
       "</style>\n",
       "<table border=\"1\" class=\"dataframe\">\n",
       "  <thead>\n",
       "    <tr style=\"text-align: right;\">\n",
       "      <th></th>\n",
       "      <th>close</th>\n",
       "      <th>Actual Returns</th>\n",
       "      <th>SMA_Fast</th>\n",
       "      <th>SMA_Slow</th>\n",
       "      <th>Signal</th>\n",
       "      <th>Strategy Returns</th>\n",
       "    </tr>\n",
       "    <tr>\n",
       "      <th>date</th>\n",
       "      <th></th>\n",
       "      <th></th>\n",
       "      <th></th>\n",
       "      <th></th>\n",
       "      <th></th>\n",
       "      <th></th>\n",
       "    </tr>\n",
       "  </thead>\n",
       "  <tbody>\n",
       "    <tr>\n",
       "      <th>2021-01-22 09:30:00</th>\n",
       "      <td>33.27</td>\n",
       "      <td>-0.006866</td>\n",
       "      <td>33.246667</td>\n",
       "      <td>31.2232</td>\n",
       "      <td>-1.0</td>\n",
       "      <td>-0.006866</td>\n",
       "    </tr>\n",
       "    <tr>\n",
       "      <th>2021-01-22 11:30:00</th>\n",
       "      <td>33.35</td>\n",
       "      <td>0.002405</td>\n",
       "      <td>33.373333</td>\n",
       "      <td>31.2848</td>\n",
       "      <td>1.0</td>\n",
       "      <td>-0.002405</td>\n",
       "    </tr>\n",
       "    <tr>\n",
       "      <th>2021-01-22 13:45:00</th>\n",
       "      <td>33.42</td>\n",
       "      <td>0.002099</td>\n",
       "      <td>33.346667</td>\n",
       "      <td>31.3480</td>\n",
       "      <td>1.0</td>\n",
       "      <td>0.002099</td>\n",
       "    </tr>\n",
       "    <tr>\n",
       "      <th>2021-01-22 14:30:00</th>\n",
       "      <td>33.47</td>\n",
       "      <td>0.001496</td>\n",
       "      <td>33.413333</td>\n",
       "      <td>31.4132</td>\n",
       "      <td>1.0</td>\n",
       "      <td>0.001496</td>\n",
       "    </tr>\n",
       "    <tr>\n",
       "      <th>2021-01-22 15:45:00</th>\n",
       "      <td>33.44</td>\n",
       "      <td>-0.000896</td>\n",
       "      <td>33.443333</td>\n",
       "      <td>31.4768</td>\n",
       "      <td>-1.0</td>\n",
       "      <td>-0.000896</td>\n",
       "    </tr>\n",
       "  </tbody>\n",
       "</table>\n",
       "</div>"
      ],
      "text/plain": [
       "                     close  Actual Returns   SMA_Fast  SMA_Slow  Signal  \\\n",
       "date                                                                      \n",
       "2021-01-22 09:30:00  33.27       -0.006866  33.246667   31.2232    -1.0   \n",
       "2021-01-22 11:30:00  33.35        0.002405  33.373333   31.2848     1.0   \n",
       "2021-01-22 13:45:00  33.42        0.002099  33.346667   31.3480     1.0   \n",
       "2021-01-22 14:30:00  33.47        0.001496  33.413333   31.4132     1.0   \n",
       "2021-01-22 15:45:00  33.44       -0.000896  33.443333   31.4768    -1.0   \n",
       "\n",
       "                     Strategy Returns  \n",
       "date                                   \n",
       "2021-01-22 09:30:00         -0.006866  \n",
       "2021-01-22 11:30:00         -0.002405  \n",
       "2021-01-22 13:45:00          0.002099  \n",
       "2021-01-22 14:30:00          0.001496  \n",
       "2021-01-22 15:45:00         -0.000896  "
      ]
     },
     "metadata": {}
    }
   ],
   "metadata": {}
  },
  {
   "cell_type": "code",
   "execution_count": 288,
   "source": [
    "# Initialize the new Signal column\r\n",
    "signals_df['Signal'] = 0.0\r\n",
    "\r\n",
    "# When Actual Returns are greater than or equal to 0, generate signal to buy stock long\r\n",
    "signals_df.loc[(signals_df['Actual Returns'] >= 0), 'Signal'] = 1\r\n",
    "\r\n",
    "# When Actual Returns are less than 0, generate signal to sell stock short\r\n",
    "signals_df.loc[(signals_df['Actual Returns'] < 0), 'Signal'] = -1\r\n",
    "\r\n",
    "# Review the DataFrame\r\n",
    "display(signals_df.head())\r\n",
    "display(signals_df.tail())"
   ],
   "outputs": [
    {
     "output_type": "display_data",
     "data": {
      "text/html": [
       "<div>\n",
       "<style scoped>\n",
       "    .dataframe tbody tr th:only-of-type {\n",
       "        vertical-align: middle;\n",
       "    }\n",
       "\n",
       "    .dataframe tbody tr th {\n",
       "        vertical-align: top;\n",
       "    }\n",
       "\n",
       "    .dataframe thead th {\n",
       "        text-align: right;\n",
       "    }\n",
       "</style>\n",
       "<table border=\"1\" class=\"dataframe\">\n",
       "  <thead>\n",
       "    <tr style=\"text-align: right;\">\n",
       "      <th></th>\n",
       "      <th>close</th>\n",
       "      <th>Actual Returns</th>\n",
       "      <th>SMA_Fast</th>\n",
       "      <th>SMA_Slow</th>\n",
       "      <th>Signal</th>\n",
       "      <th>Strategy Returns</th>\n",
       "    </tr>\n",
       "    <tr>\n",
       "      <th>date</th>\n",
       "      <th></th>\n",
       "      <th></th>\n",
       "      <th></th>\n",
       "      <th></th>\n",
       "      <th></th>\n",
       "      <th></th>\n",
       "    </tr>\n",
       "  </thead>\n",
       "  <tbody>\n",
       "    <tr>\n",
       "      <th>2015-12-24 09:30:00</th>\n",
       "      <td>20.64</td>\n",
       "      <td>-0.006259</td>\n",
       "      <td>20.730000</td>\n",
       "      <td>20.2344</td>\n",
       "      <td>-1.0</td>\n",
       "      <td>0.006259</td>\n",
       "    </tr>\n",
       "    <tr>\n",
       "      <th>2015-12-24 09:45:00</th>\n",
       "      <td>20.75</td>\n",
       "      <td>0.005329</td>\n",
       "      <td>20.720000</td>\n",
       "      <td>20.2546</td>\n",
       "      <td>1.0</td>\n",
       "      <td>-0.005329</td>\n",
       "    </tr>\n",
       "    <tr>\n",
       "      <th>2015-12-24 10:45:00</th>\n",
       "      <td>20.77</td>\n",
       "      <td>0.000964</td>\n",
       "      <td>20.720000</td>\n",
       "      <td>20.2742</td>\n",
       "      <td>1.0</td>\n",
       "      <td>0.000964</td>\n",
       "    </tr>\n",
       "    <tr>\n",
       "      <th>2015-12-24 11:00:00</th>\n",
       "      <td>20.73</td>\n",
       "      <td>-0.001926</td>\n",
       "      <td>20.750000</td>\n",
       "      <td>20.2928</td>\n",
       "      <td>-1.0</td>\n",
       "      <td>-0.001926</td>\n",
       "    </tr>\n",
       "    <tr>\n",
       "      <th>2015-12-24 12:00:00</th>\n",
       "      <td>20.74</td>\n",
       "      <td>0.000482</td>\n",
       "      <td>20.746667</td>\n",
       "      <td>20.3154</td>\n",
       "      <td>1.0</td>\n",
       "      <td>-0.000482</td>\n",
       "    </tr>\n",
       "  </tbody>\n",
       "</table>\n",
       "</div>"
      ],
      "text/plain": [
       "                     close  Actual Returns   SMA_Fast  SMA_Slow  Signal  \\\n",
       "date                                                                      \n",
       "2015-12-24 09:30:00  20.64       -0.006259  20.730000   20.2344    -1.0   \n",
       "2015-12-24 09:45:00  20.75        0.005329  20.720000   20.2546     1.0   \n",
       "2015-12-24 10:45:00  20.77        0.000964  20.720000   20.2742     1.0   \n",
       "2015-12-24 11:00:00  20.73       -0.001926  20.750000   20.2928    -1.0   \n",
       "2015-12-24 12:00:00  20.74        0.000482  20.746667   20.3154     1.0   \n",
       "\n",
       "                     Strategy Returns  \n",
       "date                                   \n",
       "2015-12-24 09:30:00          0.006259  \n",
       "2015-12-24 09:45:00         -0.005329  \n",
       "2015-12-24 10:45:00          0.000964  \n",
       "2015-12-24 11:00:00         -0.001926  \n",
       "2015-12-24 12:00:00         -0.000482  "
      ]
     },
     "metadata": {}
    },
    {
     "output_type": "display_data",
     "data": {
      "text/html": [
       "<div>\n",
       "<style scoped>\n",
       "    .dataframe tbody tr th:only-of-type {\n",
       "        vertical-align: middle;\n",
       "    }\n",
       "\n",
       "    .dataframe tbody tr th {\n",
       "        vertical-align: top;\n",
       "    }\n",
       "\n",
       "    .dataframe thead th {\n",
       "        text-align: right;\n",
       "    }\n",
       "</style>\n",
       "<table border=\"1\" class=\"dataframe\">\n",
       "  <thead>\n",
       "    <tr style=\"text-align: right;\">\n",
       "      <th></th>\n",
       "      <th>close</th>\n",
       "      <th>Actual Returns</th>\n",
       "      <th>SMA_Fast</th>\n",
       "      <th>SMA_Slow</th>\n",
       "      <th>Signal</th>\n",
       "      <th>Strategy Returns</th>\n",
       "    </tr>\n",
       "    <tr>\n",
       "      <th>date</th>\n",
       "      <th></th>\n",
       "      <th></th>\n",
       "      <th></th>\n",
       "      <th></th>\n",
       "      <th></th>\n",
       "      <th></th>\n",
       "    </tr>\n",
       "  </thead>\n",
       "  <tbody>\n",
       "    <tr>\n",
       "      <th>2021-01-22 09:30:00</th>\n",
       "      <td>33.27</td>\n",
       "      <td>-0.006866</td>\n",
       "      <td>33.246667</td>\n",
       "      <td>31.2232</td>\n",
       "      <td>-1.0</td>\n",
       "      <td>-0.006866</td>\n",
       "    </tr>\n",
       "    <tr>\n",
       "      <th>2021-01-22 11:30:00</th>\n",
       "      <td>33.35</td>\n",
       "      <td>0.002405</td>\n",
       "      <td>33.373333</td>\n",
       "      <td>31.2848</td>\n",
       "      <td>1.0</td>\n",
       "      <td>-0.002405</td>\n",
       "    </tr>\n",
       "    <tr>\n",
       "      <th>2021-01-22 13:45:00</th>\n",
       "      <td>33.42</td>\n",
       "      <td>0.002099</td>\n",
       "      <td>33.346667</td>\n",
       "      <td>31.3480</td>\n",
       "      <td>1.0</td>\n",
       "      <td>0.002099</td>\n",
       "    </tr>\n",
       "    <tr>\n",
       "      <th>2021-01-22 14:30:00</th>\n",
       "      <td>33.47</td>\n",
       "      <td>0.001496</td>\n",
       "      <td>33.413333</td>\n",
       "      <td>31.4132</td>\n",
       "      <td>1.0</td>\n",
       "      <td>0.001496</td>\n",
       "    </tr>\n",
       "    <tr>\n",
       "      <th>2021-01-22 15:45:00</th>\n",
       "      <td>33.44</td>\n",
       "      <td>-0.000896</td>\n",
       "      <td>33.443333</td>\n",
       "      <td>31.4768</td>\n",
       "      <td>-1.0</td>\n",
       "      <td>-0.000896</td>\n",
       "    </tr>\n",
       "  </tbody>\n",
       "</table>\n",
       "</div>"
      ],
      "text/plain": [
       "                     close  Actual Returns   SMA_Fast  SMA_Slow  Signal  \\\n",
       "date                                                                      \n",
       "2021-01-22 09:30:00  33.27       -0.006866  33.246667   31.2232    -1.0   \n",
       "2021-01-22 11:30:00  33.35        0.002405  33.373333   31.2848     1.0   \n",
       "2021-01-22 13:45:00  33.42        0.002099  33.346667   31.3480     1.0   \n",
       "2021-01-22 14:30:00  33.47        0.001496  33.413333   31.4132     1.0   \n",
       "2021-01-22 15:45:00  33.44       -0.000896  33.443333   31.4768    -1.0   \n",
       "\n",
       "                     Strategy Returns  \n",
       "date                                   \n",
       "2021-01-22 09:30:00         -0.006866  \n",
       "2021-01-22 11:30:00         -0.002405  \n",
       "2021-01-22 13:45:00          0.002099  \n",
       "2021-01-22 14:30:00          0.001496  \n",
       "2021-01-22 15:45:00         -0.000896  "
      ]
     },
     "metadata": {}
    }
   ],
   "metadata": {}
  },
  {
   "cell_type": "code",
   "execution_count": 289,
   "source": [
    "signals_df['Signal'].value_counts()"
   ],
   "outputs": [
    {
     "output_type": "execute_result",
     "data": {
      "text/plain": [
       " 1.0    2098\n",
       "-1.0    1631\n",
       "Name: Signal, dtype: int64"
      ]
     },
     "metadata": {},
     "execution_count": 289
    }
   ],
   "metadata": {}
  },
  {
   "cell_type": "code",
   "execution_count": 290,
   "source": [
    "# Calculate the strategy returns and add them to the signals_df DataFrame\r\n",
    "signals_df['Strategy Returns'] = signals_df['Actual Returns'] * signals_df['Signal'].shift()\r\n",
    "\r\n",
    "# Review the DataFrame\r\n",
    "display(signals_df.head())\r\n",
    "display(signals_df.tail())"
   ],
   "outputs": [
    {
     "output_type": "display_data",
     "data": {
      "text/html": [
       "<div>\n",
       "<style scoped>\n",
       "    .dataframe tbody tr th:only-of-type {\n",
       "        vertical-align: middle;\n",
       "    }\n",
       "\n",
       "    .dataframe tbody tr th {\n",
       "        vertical-align: top;\n",
       "    }\n",
       "\n",
       "    .dataframe thead th {\n",
       "        text-align: right;\n",
       "    }\n",
       "</style>\n",
       "<table border=\"1\" class=\"dataframe\">\n",
       "  <thead>\n",
       "    <tr style=\"text-align: right;\">\n",
       "      <th></th>\n",
       "      <th>close</th>\n",
       "      <th>Actual Returns</th>\n",
       "      <th>SMA_Fast</th>\n",
       "      <th>SMA_Slow</th>\n",
       "      <th>Signal</th>\n",
       "      <th>Strategy Returns</th>\n",
       "    </tr>\n",
       "    <tr>\n",
       "      <th>date</th>\n",
       "      <th></th>\n",
       "      <th></th>\n",
       "      <th></th>\n",
       "      <th></th>\n",
       "      <th></th>\n",
       "      <th></th>\n",
       "    </tr>\n",
       "  </thead>\n",
       "  <tbody>\n",
       "    <tr>\n",
       "      <th>2015-12-24 09:30:00</th>\n",
       "      <td>20.64</td>\n",
       "      <td>-0.006259</td>\n",
       "      <td>20.730000</td>\n",
       "      <td>20.2344</td>\n",
       "      <td>-1.0</td>\n",
       "      <td>NaN</td>\n",
       "    </tr>\n",
       "    <tr>\n",
       "      <th>2015-12-24 09:45:00</th>\n",
       "      <td>20.75</td>\n",
       "      <td>0.005329</td>\n",
       "      <td>20.720000</td>\n",
       "      <td>20.2546</td>\n",
       "      <td>1.0</td>\n",
       "      <td>-0.005329</td>\n",
       "    </tr>\n",
       "    <tr>\n",
       "      <th>2015-12-24 10:45:00</th>\n",
       "      <td>20.77</td>\n",
       "      <td>0.000964</td>\n",
       "      <td>20.720000</td>\n",
       "      <td>20.2742</td>\n",
       "      <td>1.0</td>\n",
       "      <td>0.000964</td>\n",
       "    </tr>\n",
       "    <tr>\n",
       "      <th>2015-12-24 11:00:00</th>\n",
       "      <td>20.73</td>\n",
       "      <td>-0.001926</td>\n",
       "      <td>20.750000</td>\n",
       "      <td>20.2928</td>\n",
       "      <td>-1.0</td>\n",
       "      <td>-0.001926</td>\n",
       "    </tr>\n",
       "    <tr>\n",
       "      <th>2015-12-24 12:00:00</th>\n",
       "      <td>20.74</td>\n",
       "      <td>0.000482</td>\n",
       "      <td>20.746667</td>\n",
       "      <td>20.3154</td>\n",
       "      <td>1.0</td>\n",
       "      <td>-0.000482</td>\n",
       "    </tr>\n",
       "  </tbody>\n",
       "</table>\n",
       "</div>"
      ],
      "text/plain": [
       "                     close  Actual Returns   SMA_Fast  SMA_Slow  Signal  \\\n",
       "date                                                                      \n",
       "2015-12-24 09:30:00  20.64       -0.006259  20.730000   20.2344    -1.0   \n",
       "2015-12-24 09:45:00  20.75        0.005329  20.720000   20.2546     1.0   \n",
       "2015-12-24 10:45:00  20.77        0.000964  20.720000   20.2742     1.0   \n",
       "2015-12-24 11:00:00  20.73       -0.001926  20.750000   20.2928    -1.0   \n",
       "2015-12-24 12:00:00  20.74        0.000482  20.746667   20.3154     1.0   \n",
       "\n",
       "                     Strategy Returns  \n",
       "date                                   \n",
       "2015-12-24 09:30:00               NaN  \n",
       "2015-12-24 09:45:00         -0.005329  \n",
       "2015-12-24 10:45:00          0.000964  \n",
       "2015-12-24 11:00:00         -0.001926  \n",
       "2015-12-24 12:00:00         -0.000482  "
      ]
     },
     "metadata": {}
    },
    {
     "output_type": "display_data",
     "data": {
      "text/html": [
       "<div>\n",
       "<style scoped>\n",
       "    .dataframe tbody tr th:only-of-type {\n",
       "        vertical-align: middle;\n",
       "    }\n",
       "\n",
       "    .dataframe tbody tr th {\n",
       "        vertical-align: top;\n",
       "    }\n",
       "\n",
       "    .dataframe thead th {\n",
       "        text-align: right;\n",
       "    }\n",
       "</style>\n",
       "<table border=\"1\" class=\"dataframe\">\n",
       "  <thead>\n",
       "    <tr style=\"text-align: right;\">\n",
       "      <th></th>\n",
       "      <th>close</th>\n",
       "      <th>Actual Returns</th>\n",
       "      <th>SMA_Fast</th>\n",
       "      <th>SMA_Slow</th>\n",
       "      <th>Signal</th>\n",
       "      <th>Strategy Returns</th>\n",
       "    </tr>\n",
       "    <tr>\n",
       "      <th>date</th>\n",
       "      <th></th>\n",
       "      <th></th>\n",
       "      <th></th>\n",
       "      <th></th>\n",
       "      <th></th>\n",
       "      <th></th>\n",
       "    </tr>\n",
       "  </thead>\n",
       "  <tbody>\n",
       "    <tr>\n",
       "      <th>2021-01-22 09:30:00</th>\n",
       "      <td>33.27</td>\n",
       "      <td>-0.006866</td>\n",
       "      <td>33.246667</td>\n",
       "      <td>31.2232</td>\n",
       "      <td>-1.0</td>\n",
       "      <td>-0.006866</td>\n",
       "    </tr>\n",
       "    <tr>\n",
       "      <th>2021-01-22 11:30:00</th>\n",
       "      <td>33.35</td>\n",
       "      <td>0.002405</td>\n",
       "      <td>33.373333</td>\n",
       "      <td>31.2848</td>\n",
       "      <td>1.0</td>\n",
       "      <td>-0.002405</td>\n",
       "    </tr>\n",
       "    <tr>\n",
       "      <th>2021-01-22 13:45:00</th>\n",
       "      <td>33.42</td>\n",
       "      <td>0.002099</td>\n",
       "      <td>33.346667</td>\n",
       "      <td>31.3480</td>\n",
       "      <td>1.0</td>\n",
       "      <td>0.002099</td>\n",
       "    </tr>\n",
       "    <tr>\n",
       "      <th>2021-01-22 14:30:00</th>\n",
       "      <td>33.47</td>\n",
       "      <td>0.001496</td>\n",
       "      <td>33.413333</td>\n",
       "      <td>31.4132</td>\n",
       "      <td>1.0</td>\n",
       "      <td>0.001496</td>\n",
       "    </tr>\n",
       "    <tr>\n",
       "      <th>2021-01-22 15:45:00</th>\n",
       "      <td>33.44</td>\n",
       "      <td>-0.000896</td>\n",
       "      <td>33.443333</td>\n",
       "      <td>31.4768</td>\n",
       "      <td>-1.0</td>\n",
       "      <td>-0.000896</td>\n",
       "    </tr>\n",
       "  </tbody>\n",
       "</table>\n",
       "</div>"
      ],
      "text/plain": [
       "                     close  Actual Returns   SMA_Fast  SMA_Slow  Signal  \\\n",
       "date                                                                      \n",
       "2021-01-22 09:30:00  33.27       -0.006866  33.246667   31.2232    -1.0   \n",
       "2021-01-22 11:30:00  33.35        0.002405  33.373333   31.2848     1.0   \n",
       "2021-01-22 13:45:00  33.42        0.002099  33.346667   31.3480     1.0   \n",
       "2021-01-22 14:30:00  33.47        0.001496  33.413333   31.4132     1.0   \n",
       "2021-01-22 15:45:00  33.44       -0.000896  33.443333   31.4768    -1.0   \n",
       "\n",
       "                     Strategy Returns  \n",
       "date                                   \n",
       "2021-01-22 09:30:00         -0.006866  \n",
       "2021-01-22 11:30:00         -0.002405  \n",
       "2021-01-22 13:45:00          0.002099  \n",
       "2021-01-22 14:30:00          0.001496  \n",
       "2021-01-22 15:45:00         -0.000896  "
      ]
     },
     "metadata": {}
    }
   ],
   "metadata": {}
  },
  {
   "cell_type": "code",
   "execution_count": 291,
   "source": [
    "# Plot Strategy Returns to examine performance\r\n",
    "(1 + signals_df['Strategy Returns']).cumprod().plot()"
   ],
   "outputs": [
    {
     "output_type": "execute_result",
     "data": {
      "text/plain": [
       "<AxesSubplot:xlabel='date'>"
      ]
     },
     "metadata": {},
     "execution_count": 291
    },
    {
     "output_type": "display_data",
     "data": {
      "image/png": "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",
      "text/plain": [
       "<Figure size 432x288 with 1 Axes>"
      ]
     },
     "metadata": {
      "needs_background": "light"
     }
    }
   ],
   "metadata": {}
  },
  {
   "cell_type": "markdown",
   "source": [
    "### Step 3: Split the data into training and testing datasets."
   ],
   "metadata": {}
  },
  {
   "cell_type": "code",
   "execution_count": 292,
   "source": [
    "# Assign a copy of the sma_fast and sma_slow columns to a features DataFrame called X\r\n",
    "X = signals_df[['SMA_Fast', 'SMA_Slow']].shift().dropna()\r\n",
    "\r\n",
    "# Review the DataFrame\r\n",
    "X.head()"
   ],
   "outputs": [
    {
     "output_type": "execute_result",
     "data": {
      "text/html": [
       "<div>\n",
       "<style scoped>\n",
       "    .dataframe tbody tr th:only-of-type {\n",
       "        vertical-align: middle;\n",
       "    }\n",
       "\n",
       "    .dataframe tbody tr th {\n",
       "        vertical-align: top;\n",
       "    }\n",
       "\n",
       "    .dataframe thead th {\n",
       "        text-align: right;\n",
       "    }\n",
       "</style>\n",
       "<table border=\"1\" class=\"dataframe\">\n",
       "  <thead>\n",
       "    <tr style=\"text-align: right;\">\n",
       "      <th></th>\n",
       "      <th>SMA_Fast</th>\n",
       "      <th>SMA_Slow</th>\n",
       "    </tr>\n",
       "    <tr>\n",
       "      <th>date</th>\n",
       "      <th></th>\n",
       "      <th></th>\n",
       "    </tr>\n",
       "  </thead>\n",
       "  <tbody>\n",
       "    <tr>\n",
       "      <th>2015-12-24 09:45:00</th>\n",
       "      <td>20.730000</td>\n",
       "      <td>20.2344</td>\n",
       "    </tr>\n",
       "    <tr>\n",
       "      <th>2015-12-24 10:45:00</th>\n",
       "      <td>20.720000</td>\n",
       "      <td>20.2546</td>\n",
       "    </tr>\n",
       "    <tr>\n",
       "      <th>2015-12-24 11:00:00</th>\n",
       "      <td>20.720000</td>\n",
       "      <td>20.2742</td>\n",
       "    </tr>\n",
       "    <tr>\n",
       "      <th>2015-12-24 12:00:00</th>\n",
       "      <td>20.750000</td>\n",
       "      <td>20.2928</td>\n",
       "    </tr>\n",
       "    <tr>\n",
       "      <th>2015-12-24 12:15:00</th>\n",
       "      <td>20.746667</td>\n",
       "      <td>20.3154</td>\n",
       "    </tr>\n",
       "  </tbody>\n",
       "</table>\n",
       "</div>"
      ],
      "text/plain": [
       "                      SMA_Fast  SMA_Slow\n",
       "date                                    \n",
       "2015-12-24 09:45:00  20.730000   20.2344\n",
       "2015-12-24 10:45:00  20.720000   20.2546\n",
       "2015-12-24 11:00:00  20.720000   20.2742\n",
       "2015-12-24 12:00:00  20.750000   20.2928\n",
       "2015-12-24 12:15:00  20.746667   20.3154"
      ]
     },
     "metadata": {},
     "execution_count": 292
    }
   ],
   "metadata": {}
  },
  {
   "cell_type": "code",
   "execution_count": 293,
   "source": [
    "# Create the target set selecting the Signal column and assiging it to y\r\n",
    "y = signals_df['Signal']\r\n",
    "\r\n",
    "# Review the value counts\r\n",
    "y.value_counts()"
   ],
   "outputs": [
    {
     "output_type": "execute_result",
     "data": {
      "text/plain": [
       " 1.0    2098\n",
       "-1.0    1631\n",
       "Name: Signal, dtype: int64"
      ]
     },
     "metadata": {},
     "execution_count": 293
    }
   ],
   "metadata": {}
  },
  {
   "cell_type": "code",
   "execution_count": 294,
   "source": [
    "# Select the start of the training period\r\n",
    "training_begin = X.index.min()\r\n",
    "\r\n",
    "# Display the training begin date\r\n",
    "print(training_begin)"
   ],
   "outputs": [
    {
     "output_type": "stream",
     "name": "stdout",
     "text": [
      "2015-12-24 09:45:00\n"
     ]
    }
   ],
   "metadata": {}
  },
  {
   "cell_type": "code",
   "execution_count": 295,
   "source": [
    "# Select the ending period for the training data with an offset of 3 months\r\n",
    "training_end = X.index.min() + DateOffset(months=3)\r\n",
    "\r\n",
    "# Display the training end date\r\n",
    "print(training_end)"
   ],
   "outputs": [
    {
     "output_type": "stream",
     "name": "stdout",
     "text": [
      "2016-02-24 09:45:00\n"
     ]
    }
   ],
   "metadata": {}
  },
  {
   "cell_type": "code",
   "execution_count": 296,
   "source": [
    "# Generate the X_train and y_train DataFrames\r\n",
    "X_train = X.loc[training_begin:training_end]\r\n",
    "y_train = y.loc[training_begin:training_end]\r\n",
    "\r\n",
    "# Review the X_train DataFrame\r\n",
    "X_train.head()"
   ],
   "outputs": [
    {
     "output_type": "execute_result",
     "data": {
      "text/html": [
       "<div>\n",
       "<style scoped>\n",
       "    .dataframe tbody tr th:only-of-type {\n",
       "        vertical-align: middle;\n",
       "    }\n",
       "\n",
       "    .dataframe tbody tr th {\n",
       "        vertical-align: top;\n",
       "    }\n",
       "\n",
       "    .dataframe thead th {\n",
       "        text-align: right;\n",
       "    }\n",
       "</style>\n",
       "<table border=\"1\" class=\"dataframe\">\n",
       "  <thead>\n",
       "    <tr style=\"text-align: right;\">\n",
       "      <th></th>\n",
       "      <th>SMA_Fast</th>\n",
       "      <th>SMA_Slow</th>\n",
       "    </tr>\n",
       "    <tr>\n",
       "      <th>date</th>\n",
       "      <th></th>\n",
       "      <th></th>\n",
       "    </tr>\n",
       "  </thead>\n",
       "  <tbody>\n",
       "    <tr>\n",
       "      <th>2015-12-24 09:45:00</th>\n",
       "      <td>20.730000</td>\n",
       "      <td>20.2344</td>\n",
       "    </tr>\n",
       "    <tr>\n",
       "      <th>2015-12-24 10:45:00</th>\n",
       "      <td>20.720000</td>\n",
       "      <td>20.2546</td>\n",
       "    </tr>\n",
       "    <tr>\n",
       "      <th>2015-12-24 11:00:00</th>\n",
       "      <td>20.720000</td>\n",
       "      <td>20.2742</td>\n",
       "    </tr>\n",
       "    <tr>\n",
       "      <th>2015-12-24 12:00:00</th>\n",
       "      <td>20.750000</td>\n",
       "      <td>20.2928</td>\n",
       "    </tr>\n",
       "    <tr>\n",
       "      <th>2015-12-24 12:15:00</th>\n",
       "      <td>20.746667</td>\n",
       "      <td>20.3154</td>\n",
       "    </tr>\n",
       "  </tbody>\n",
       "</table>\n",
       "</div>"
      ],
      "text/plain": [
       "                      SMA_Fast  SMA_Slow\n",
       "date                                    \n",
       "2015-12-24 09:45:00  20.730000   20.2344\n",
       "2015-12-24 10:45:00  20.720000   20.2546\n",
       "2015-12-24 11:00:00  20.720000   20.2742\n",
       "2015-12-24 12:00:00  20.750000   20.2928\n",
       "2015-12-24 12:15:00  20.746667   20.3154"
      ]
     },
     "metadata": {},
     "execution_count": 296
    }
   ],
   "metadata": {}
  },
  {
   "cell_type": "code",
   "execution_count": 297,
   "source": [
    "# Generate the X_test and y_test DataFrames\r\n",
    "X_test = X.loc[training_end+DateOffset(hours=1):]\r\n",
    "y_test = y.loc[training_end+DateOffset(hours=1):]\r\n",
    "\r\n",
    "# Review the X_test DataFrame\r\n",
    "X_train.head()"
   ],
   "outputs": [
    {
     "output_type": "execute_result",
     "data": {
      "text/html": [
       "<div>\n",
       "<style scoped>\n",
       "    .dataframe tbody tr th:only-of-type {\n",
       "        vertical-align: middle;\n",
       "    }\n",
       "\n",
       "    .dataframe tbody tr th {\n",
       "        vertical-align: top;\n",
       "    }\n",
       "\n",
       "    .dataframe thead th {\n",
       "        text-align: right;\n",
       "    }\n",
       "</style>\n",
       "<table border=\"1\" class=\"dataframe\">\n",
       "  <thead>\n",
       "    <tr style=\"text-align: right;\">\n",
       "      <th></th>\n",
       "      <th>SMA_Fast</th>\n",
       "      <th>SMA_Slow</th>\n",
       "    </tr>\n",
       "    <tr>\n",
       "      <th>date</th>\n",
       "      <th></th>\n",
       "      <th></th>\n",
       "    </tr>\n",
       "  </thead>\n",
       "  <tbody>\n",
       "    <tr>\n",
       "      <th>2015-12-24 09:45:00</th>\n",
       "      <td>20.730000</td>\n",
       "      <td>20.2344</td>\n",
       "    </tr>\n",
       "    <tr>\n",
       "      <th>2015-12-24 10:45:00</th>\n",
       "      <td>20.720000</td>\n",
       "      <td>20.2546</td>\n",
       "    </tr>\n",
       "    <tr>\n",
       "      <th>2015-12-24 11:00:00</th>\n",
       "      <td>20.720000</td>\n",
       "      <td>20.2742</td>\n",
       "    </tr>\n",
       "    <tr>\n",
       "      <th>2015-12-24 12:00:00</th>\n",
       "      <td>20.750000</td>\n",
       "      <td>20.2928</td>\n",
       "    </tr>\n",
       "    <tr>\n",
       "      <th>2015-12-24 12:15:00</th>\n",
       "      <td>20.746667</td>\n",
       "      <td>20.3154</td>\n",
       "    </tr>\n",
       "  </tbody>\n",
       "</table>\n",
       "</div>"
      ],
      "text/plain": [
       "                      SMA_Fast  SMA_Slow\n",
       "date                                    \n",
       "2015-12-24 09:45:00  20.730000   20.2344\n",
       "2015-12-24 10:45:00  20.720000   20.2546\n",
       "2015-12-24 11:00:00  20.720000   20.2742\n",
       "2015-12-24 12:00:00  20.750000   20.2928\n",
       "2015-12-24 12:15:00  20.746667   20.3154"
      ]
     },
     "metadata": {},
     "execution_count": 297
    }
   ],
   "metadata": {}
  },
  {
   "cell_type": "code",
   "execution_count": 298,
   "source": [
    "# Scale the features DataFrames\r\n",
    "\r\n",
    "# Create a StandardScaler instance\r\n",
    "scaler = StandardScaler()\r\n",
    "\r\n",
    "# Apply the scaler model to fit the X-train data\r\n",
    "X_scaler = scaler.fit(X_train)\r\n",
    "\r\n",
    "# Transform the X_train and X_test DataFrames using the X_scaler\r\n",
    "X_train_scaled = X_scaler.transform(X_train)\r\n",
    "X_test_scaled = X_scaler.transform(X_test)"
   ],
   "outputs": [],
   "metadata": {}
  },
  {
   "cell_type": "markdown",
   "source": [
    "### Step 4: Use the `SVC` classifier model from SKLearn's support vector machine (SVM) learning method to fit the training data and make predictions based on the testing data. Review the predictions."
   ],
   "metadata": {}
  },
  {
   "cell_type": "code",
   "execution_count": 299,
   "source": [
    "# From SVM, instantiate SVC classifier model instance\r\n",
    "svm_model = svm.SVC()\r\n",
    " \r\n",
    "# Fit the model to the data using the training data\r\n",
    "svm_model = svm_model.fit(X_train_scaled, y_train)\r\n",
    " \r\n",
    "# Use the testing data to make the model predictions\r\n",
    "svm_pred = svm_model.predict(X_train_scaled)\r\n",
    "\r\n",
    "# Review the model's predicted values\r\n",
    "svm_pred\r\n"
   ],
   "outputs": [
    {
     "output_type": "execute_result",
     "data": {
      "text/plain": [
       "array([-1., -1., -1., -1., -1., -1., -1., -1., -1., -1., -1., -1., -1.,\n",
       "       -1., -1., -1., -1., -1., -1., -1., -1., -1., -1., -1., -1., -1.,\n",
       "       -1., -1., -1., -1., -1., -1., -1., -1., -1., -1., -1., -1., -1.,\n",
       "       -1., -1., -1., -1., -1., -1., -1., -1., -1., -1., -1., -1., -1.,\n",
       "       -1., -1., -1., -1., -1., -1., -1., -1., -1., -1., -1., -1., -1.,\n",
       "       -1., -1.,  1.,  1.,  1.,  1.,  1.,  1.,  1.,  1.,  1.,  1.,  1.,\n",
       "        1.,  1.,  1.,  1.,  1.,  1.,  1.,  1.,  1.,  1.,  1.,  1.,  1.,\n",
       "        1.,  1.,  1.,  1.,  1.,  1.,  1.,  1.,  1.,  1.,  1.,  1.,  1.,\n",
       "        1.,  1.,  1.,  1.,  1.,  1.,  1.,  1.,  1.,  1.,  1.,  1.,  1.,\n",
       "        1.,  1.,  1.,  1.,  1.,  1.,  1.,  1.,  1.,  1.,  1.,  1.,  1.,\n",
       "        1.,  1.,  1.,  1.,  1.,  1.,  1.,  1.,  1.,  1.,  1.,  1.,  1.,\n",
       "        1.,  1.,  1.,  1.,  1.,  1.,  1.,  1.,  1.,  1.,  1.,  1.,  1.,\n",
       "        1.,  1.,  1.,  1.,  1.,  1.,  1.,  1.,  1.,  1.,  1.,  1.,  1.,\n",
       "        1.,  1.,  1.,  1.,  1.,  1.,  1.,  1.,  1.,  1.,  1.,  1.,  1.,\n",
       "        1.,  1.,  1.,  1.,  1.,  1.,  1.,  1.,  1.,  1.,  1.,  1.,  1.,\n",
       "        1.,  1.,  1.,  1.,  1.,  1.,  1.,  1.,  1.,  1.,  1.,  1.,  1.,\n",
       "        1.,  1.,  1.,  1.,  1.,  1.,  1.,  1.,  1.,  1.,  1.])"
      ]
     },
     "metadata": {},
     "execution_count": 299
    }
   ],
   "metadata": {}
  },
  {
   "cell_type": "markdown",
   "source": [
    "### Step 5: Review the classification report associated with the `SVC` model predictions. "
   ],
   "metadata": {}
  },
  {
   "cell_type": "code",
   "execution_count": 300,
   "source": [
    "# Use a classification report to evaluate the model using the predictions and testing data\r\n",
    "svm_testing_report = classification_report(y_train, svm_pred)\r\n",
    "\r\n",
    "# Print the classification report\r\n",
    "print(svm_testing_report)\r\n"
   ],
   "outputs": [
    {
     "output_type": "stream",
     "name": "stdout",
     "text": [
      "              precision    recall  f1-score   support\n",
      "\n",
      "        -1.0       0.55      0.36      0.44       102\n",
      "         1.0       0.57      0.74      0.65       117\n",
      "\n",
      "    accuracy                           0.57       219\n",
      "   macro avg       0.56      0.55      0.54       219\n",
      "weighted avg       0.56      0.57      0.55       219\n",
      "\n"
     ]
    }
   ],
   "metadata": {}
  },
  {
   "cell_type": "markdown",
   "source": [
    "### Step 6: Create a predictions DataFrame that contains columns for “Predicted” values, “Actual Returns”, and “Strategy Returns”."
   ],
   "metadata": {}
  },
  {
   "cell_type": "code",
   "execution_count": 301,
   "source": [
    "# Create a new empty predictions DataFrame.\r\n",
    "\r\n",
    "# Create a predictions DataFrame\r\n",
    "predictions_df = pd.DataFrame(index=X_train.index)\r\n",
    "\r\n",
    "# Add the SVM model predictions to the DataFrame\r\n",
    "predictions_df['Predicted'] = svm_pred\r\n",
    "\r\n",
    "# Add the actual returns to the DataFrame\r\n",
    "predictions_df['Actual Returns'] = signals_df['Actual Returns']\r\n",
    "\r\n",
    "# Add the strategy returns to the DataFrame\r\n",
    "predictions_df['Strategy Returns'] = predictions_df['Actual Returns'] * predictions_df['Predicted']\r\n",
    "\r\n",
    "# Review the DataFrame\r\n",
    "display(predictions_df.head())\r\n",
    "display(predictions_df.tail())"
   ],
   "outputs": [
    {
     "output_type": "display_data",
     "data": {
      "text/html": [
       "<div>\n",
       "<style scoped>\n",
       "    .dataframe tbody tr th:only-of-type {\n",
       "        vertical-align: middle;\n",
       "    }\n",
       "\n",
       "    .dataframe tbody tr th {\n",
       "        vertical-align: top;\n",
       "    }\n",
       "\n",
       "    .dataframe thead th {\n",
       "        text-align: right;\n",
       "    }\n",
       "</style>\n",
       "<table border=\"1\" class=\"dataframe\">\n",
       "  <thead>\n",
       "    <tr style=\"text-align: right;\">\n",
       "      <th></th>\n",
       "      <th>Predicted</th>\n",
       "      <th>Actual Returns</th>\n",
       "      <th>Strategy Returns</th>\n",
       "    </tr>\n",
       "    <tr>\n",
       "      <th>date</th>\n",
       "      <th></th>\n",
       "      <th></th>\n",
       "      <th></th>\n",
       "    </tr>\n",
       "  </thead>\n",
       "  <tbody>\n",
       "    <tr>\n",
       "      <th>2015-12-24 09:45:00</th>\n",
       "      <td>-1.0</td>\n",
       "      <td>0.005329</td>\n",
       "      <td>-0.005329</td>\n",
       "    </tr>\n",
       "    <tr>\n",
       "      <th>2015-12-24 10:45:00</th>\n",
       "      <td>-1.0</td>\n",
       "      <td>0.000964</td>\n",
       "      <td>-0.000964</td>\n",
       "    </tr>\n",
       "    <tr>\n",
       "      <th>2015-12-24 11:00:00</th>\n",
       "      <td>-1.0</td>\n",
       "      <td>-0.001926</td>\n",
       "      <td>0.001926</td>\n",
       "    </tr>\n",
       "    <tr>\n",
       "      <th>2015-12-24 12:00:00</th>\n",
       "      <td>-1.0</td>\n",
       "      <td>0.000482</td>\n",
       "      <td>-0.000482</td>\n",
       "    </tr>\n",
       "    <tr>\n",
       "      <th>2015-12-24 12:15:00</th>\n",
       "      <td>-1.0</td>\n",
       "      <td>0.001446</td>\n",
       "      <td>-0.001446</td>\n",
       "    </tr>\n",
       "  </tbody>\n",
       "</table>\n",
       "</div>"
      ],
      "text/plain": [
       "                     Predicted  Actual Returns  Strategy Returns\n",
       "date                                                            \n",
       "2015-12-24 09:45:00       -1.0        0.005329         -0.005329\n",
       "2015-12-24 10:45:00       -1.0        0.000964         -0.000964\n",
       "2015-12-24 11:00:00       -1.0       -0.001926          0.001926\n",
       "2015-12-24 12:00:00       -1.0        0.000482         -0.000482\n",
       "2015-12-24 12:15:00       -1.0        0.001446         -0.001446"
      ]
     },
     "metadata": {}
    },
    {
     "output_type": "display_data",
     "data": {
      "text/html": [
       "<div>\n",
       "<style scoped>\n",
       "    .dataframe tbody tr th:only-of-type {\n",
       "        vertical-align: middle;\n",
       "    }\n",
       "\n",
       "    .dataframe tbody tr th {\n",
       "        vertical-align: top;\n",
       "    }\n",
       "\n",
       "    .dataframe thead th {\n",
       "        text-align: right;\n",
       "    }\n",
       "</style>\n",
       "<table border=\"1\" class=\"dataframe\">\n",
       "  <thead>\n",
       "    <tr style=\"text-align: right;\">\n",
       "      <th></th>\n",
       "      <th>Predicted</th>\n",
       "      <th>Actual Returns</th>\n",
       "      <th>Strategy Returns</th>\n",
       "    </tr>\n",
       "    <tr>\n",
       "      <th>date</th>\n",
       "      <th></th>\n",
       "      <th></th>\n",
       "      <th></th>\n",
       "    </tr>\n",
       "  </thead>\n",
       "  <tbody>\n",
       "    <tr>\n",
       "      <th>2016-02-23 11:30:00</th>\n",
       "      <td>1.0</td>\n",
       "      <td>-0.012860</td>\n",
       "      <td>-0.012860</td>\n",
       "    </tr>\n",
       "    <tr>\n",
       "      <th>2016-02-23 14:30:00</th>\n",
       "      <td>1.0</td>\n",
       "      <td>-0.004169</td>\n",
       "      <td>-0.004169</td>\n",
       "    </tr>\n",
       "    <tr>\n",
       "      <th>2016-02-23 14:45:00</th>\n",
       "      <td>1.0</td>\n",
       "      <td>0.002093</td>\n",
       "      <td>0.002093</td>\n",
       "    </tr>\n",
       "    <tr>\n",
       "      <th>2016-02-23 15:15:00</th>\n",
       "      <td>1.0</td>\n",
       "      <td>-0.005222</td>\n",
       "      <td>-0.005222</td>\n",
       "    </tr>\n",
       "    <tr>\n",
       "      <th>2016-02-23 15:45:00</th>\n",
       "      <td>1.0</td>\n",
       "      <td>0.001050</td>\n",
       "      <td>0.001050</td>\n",
       "    </tr>\n",
       "  </tbody>\n",
       "</table>\n",
       "</div>"
      ],
      "text/plain": [
       "                     Predicted  Actual Returns  Strategy Returns\n",
       "date                                                            \n",
       "2016-02-23 11:30:00        1.0       -0.012860         -0.012860\n",
       "2016-02-23 14:30:00        1.0       -0.004169         -0.004169\n",
       "2016-02-23 14:45:00        1.0        0.002093          0.002093\n",
       "2016-02-23 15:15:00        1.0       -0.005222         -0.005222\n",
       "2016-02-23 15:45:00        1.0        0.001050          0.001050"
      ]
     },
     "metadata": {}
    }
   ],
   "metadata": {}
  },
  {
   "cell_type": "markdown",
   "source": [
    "### Step 7: Create a cumulative return plot that shows the actual returns vs. the strategy returns. Save a PNG image of this plot. This will serve as a baseline against which to compare the effects of tuning the trading algorithm."
   ],
   "metadata": {}
  },
  {
   "cell_type": "code",
   "execution_count": 302,
   "source": [
    "# Plot the actual returns versus the strategy returns\r\n",
    "(1 + predictions_df[['Actual Returns','Strategy Returns']]).cumprod().plot()\r\n"
   ],
   "outputs": [
    {
     "output_type": "execute_result",
     "data": {
      "text/plain": [
       "<AxesSubplot:xlabel='date'>"
      ]
     },
     "metadata": {},
     "execution_count": 302
    },
    {
     "output_type": "display_data",
     "data": {
      "image/png": "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",
      "text/plain": [
       "<Figure size 432x288 with 1 Axes>"
      ]
     },
     "metadata": {
      "needs_background": "light"
     }
    }
   ],
   "metadata": {}
  },
  {
   "cell_type": "markdown",
   "source": [
    "---\r\n",
    "\r\n",
    "## Tune the Baseline Trading Algorithm"
   ],
   "metadata": {}
  },
  {
   "cell_type": "markdown",
   "source": [
    "## Step 6: Use an Alternative ML Model and Evaluate Strategy Returns"
   ],
   "metadata": {}
  },
  {
   "cell_type": "markdown",
   "source": [
    "In this section, you’ll tune, or adjust, the model’s input features to find the parameters that result in the best trading outcomes. You’ll choose the best by comparing the cumulative products of the strategy returns."
   ],
   "metadata": {}
  },
  {
   "cell_type": "markdown",
   "source": [
    "### Step 1: Tune the training algorithm by adjusting the size of the training dataset. \n",
    "\n",
    "To do so, slice your data into different periods. Rerun the notebook with the updated parameters, and record the results in your `README.md` file. \n",
    "\n",
    "Answer the following question: What impact resulted from increasing or decreasing the training window?"
   ],
   "metadata": {}
  },
  {
   "cell_type": "markdown",
   "source": [
    "### Step 2: Tune the trading algorithm by adjusting the SMA input features. \n",
    "\n",
    "Adjust one or both of the windows for the algorithm. Rerun the notebook with the updated parameters, and record the results in your `README.md` file. \n",
    "\n",
    "Answer the following question: What impact resulted from increasing or decreasing either or both of the SMA windows?"
   ],
   "metadata": {}
  },
  {
   "cell_type": "markdown",
   "source": [
    "### Step 3: Choose the set of parameters that best improved the trading algorithm returns. \n",
    "\n",
    "Save a PNG image of the cumulative product of the actual returns vs. the strategy returns, and document your conclusion in your `README.md` file."
   ],
   "metadata": {}
  },
  {
   "cell_type": "markdown",
   "source": [
    "---\n",
    "\n",
    "## Evaluate a New Machine Learning Classifier\n",
    "\n",
    "In this section, you’ll use the original parameters that the starter code provided. But, you’ll apply them to the performance of a second machine learning model. "
   ],
   "metadata": {}
  },
  {
   "cell_type": "markdown",
   "source": [
    "### Step 1:  Import a new classifier, such as `AdaBoost`, `DecisionTreeClassifier`, or `LogisticRegression`. (For the full list of classifiers, refer to the [Supervised learning page](https://scikit-learn.org/stable/supervised_learning.html) in the scikit-learn documentation.)"
   ],
   "metadata": {}
  },
  {
   "cell_type": "code",
   "execution_count": 303,
   "source": [
    "# Import a new classifier from SKLearn\r\n",
    "from sklearn.ensemble import RandomForestClassifier\r\n",
    "\r\n",
    "\r\n",
    "# Initiate the model instance\r\n",
    "model = RandomForestClassifier(n_estimators=100, max_depth=3, random_state=0)\r\n"
   ],
   "outputs": [],
   "metadata": {}
  },
  {
   "cell_type": "markdown",
   "source": [
    "### Step 2: Using the original training data as the baseline model, fit another model with the new classifier."
   ],
   "metadata": {}
  },
  {
   "cell_type": "code",
   "execution_count": 304,
   "source": [
    "# Fit the model using the training data\r\n",
    "model.fit(X_train_scaled, y_train)\r\n",
    "\r\n",
    "# Use the testing dataset to generate the predictions for the new model\r\n",
    "pred = model.predict(X_train_scaled)\r\n",
    "\r\n",
    "# Review the model's predicted values\r\n",
    "pred[:5]\r\n"
   ],
   "outputs": [
    {
     "output_type": "execute_result",
     "data": {
      "text/plain": [
       "array([1., 1., 1., 1., 1.])"
      ]
     },
     "metadata": {},
     "execution_count": 304
    }
   ],
   "metadata": {}
  },
  {
   "cell_type": "markdown",
   "source": [
    "### Step 3: Backtest the new model to evaluate its performance. \n",
    "\n",
    "Save a PNG image of the cumulative product of the actual returns vs. the strategy returns for this updated trading algorithm, and write your conclusions in your `README.md` file. \n",
    "\n",
    "Answer the following questions: \n",
    "Did this new model perform better or worse than the provided baseline model? \n",
    "Did this new model perform better or worse than your tuned trading algorithm?"
   ],
   "metadata": {}
  },
  {
   "cell_type": "code",
   "execution_count": 305,
   "source": [
    "# Use a classification report to evaluate the model using the predictions and testing data\r\n",
    "testing_report = classification_report(y_train, pred)\r\n",
    "\r\n",
    "# Print the classification report\r\n",
    "print(testing_report)\r\n"
   ],
   "outputs": [
    {
     "output_type": "stream",
     "name": "stdout",
     "text": [
      "              precision    recall  f1-score   support\n",
      "\n",
      "        -1.0       0.75      0.38      0.51       102\n",
      "         1.0       0.62      0.89      0.73       117\n",
      "\n",
      "    accuracy                           0.65       219\n",
      "   macro avg       0.69      0.64      0.62       219\n",
      "weighted avg       0.68      0.65      0.63       219\n",
      "\n"
     ]
    }
   ],
   "metadata": {}
  },
  {
   "cell_type": "code",
   "execution_count": 306,
   "source": [
    "# Create a new empty predictions DataFrame.\r\n",
    "\r\n",
    "# Create a predictions DataFrame\r\n",
    "pred_df = pd.DataFrame(index=X_train.index)\r\n",
    "\r\n",
    "# Add the SVM model predictions to the DataFrame\r\n",
    "pred_df['Predicted'] = pred\r\n",
    "\r\n",
    "# Add the actual returns to the DataFrame\r\n",
    "pred_df['Actual Returns'] = signals_df['Actual Returns']\r\n",
    "\r\n",
    "# Add the strategy returns to the DataFrame\r\n",
    "pred_df['Strategy Returns'] = pred_df['Actual Returns'] * pred_df['Predicted']\r\n",
    "\r\n",
    "# Review the DataFrame\r\n",
    "pred_df.head()\r\n"
   ],
   "outputs": [
    {
     "output_type": "execute_result",
     "data": {
      "text/html": [
       "<div>\n",
       "<style scoped>\n",
       "    .dataframe tbody tr th:only-of-type {\n",
       "        vertical-align: middle;\n",
       "    }\n",
       "\n",
       "    .dataframe tbody tr th {\n",
       "        vertical-align: top;\n",
       "    }\n",
       "\n",
       "    .dataframe thead th {\n",
       "        text-align: right;\n",
       "    }\n",
       "</style>\n",
       "<table border=\"1\" class=\"dataframe\">\n",
       "  <thead>\n",
       "    <tr style=\"text-align: right;\">\n",
       "      <th></th>\n",
       "      <th>Predicted</th>\n",
       "      <th>Actual Returns</th>\n",
       "      <th>Strategy Returns</th>\n",
       "    </tr>\n",
       "    <tr>\n",
       "      <th>date</th>\n",
       "      <th></th>\n",
       "      <th></th>\n",
       "      <th></th>\n",
       "    </tr>\n",
       "  </thead>\n",
       "  <tbody>\n",
       "    <tr>\n",
       "      <th>2015-12-24 09:45:00</th>\n",
       "      <td>1.0</td>\n",
       "      <td>0.005329</td>\n",
       "      <td>0.005329</td>\n",
       "    </tr>\n",
       "    <tr>\n",
       "      <th>2015-12-24 10:45:00</th>\n",
       "      <td>1.0</td>\n",
       "      <td>0.000964</td>\n",
       "      <td>0.000964</td>\n",
       "    </tr>\n",
       "    <tr>\n",
       "      <th>2015-12-24 11:00:00</th>\n",
       "      <td>1.0</td>\n",
       "      <td>-0.001926</td>\n",
       "      <td>-0.001926</td>\n",
       "    </tr>\n",
       "    <tr>\n",
       "      <th>2015-12-24 12:00:00</th>\n",
       "      <td>1.0</td>\n",
       "      <td>0.000482</td>\n",
       "      <td>0.000482</td>\n",
       "    </tr>\n",
       "    <tr>\n",
       "      <th>2015-12-24 12:15:00</th>\n",
       "      <td>1.0</td>\n",
       "      <td>0.001446</td>\n",
       "      <td>0.001446</td>\n",
       "    </tr>\n",
       "  </tbody>\n",
       "</table>\n",
       "</div>"
      ],
      "text/plain": [
       "                     Predicted  Actual Returns  Strategy Returns\n",
       "date                                                            \n",
       "2015-12-24 09:45:00        1.0        0.005329          0.005329\n",
       "2015-12-24 10:45:00        1.0        0.000964          0.000964\n",
       "2015-12-24 11:00:00        1.0       -0.001926         -0.001926\n",
       "2015-12-24 12:00:00        1.0        0.000482          0.000482\n",
       "2015-12-24 12:15:00        1.0        0.001446          0.001446"
      ]
     },
     "metadata": {},
     "execution_count": 306
    }
   ],
   "metadata": {}
  },
  {
   "cell_type": "code",
   "execution_count": 307,
   "source": [
    "# Plot the actual returns versus the strategy returns\r\n",
    "(1 + pred_df[['Actual Returns', 'Strategy Returns']]).cumprod().plot()"
   ],
   "outputs": [
    {
     "output_type": "execute_result",
     "data": {
      "text/plain": [
       "<AxesSubplot:xlabel='date'>"
      ]
     },
     "metadata": {},
     "execution_count": 307
    },
    {
     "output_type": "display_data",
     "data": {
      "image/png": "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",
      "text/plain": [
       "<Figure size 432x288 with 1 Axes>"
      ]
     },
     "metadata": {
      "needs_background": "light"
     }
    }
   ],
   "metadata": {}
  },
  {
   "cell_type": "code",
   "execution_count": null,
   "source": [],
   "outputs": [],
   "metadata": {}
  }
 ],
 "metadata": {
  "kernelspec": {
   "name": "python3",
   "display_name": "Python 3.7.10 64-bit ('dev': conda)"
  },
  "language_info": {
   "codemirror_mode": {
    "name": "ipython",
    "version": 3
   },
   "file_extension": ".py",
   "mimetype": "text/x-python",
   "name": "python",
   "nbconvert_exporter": "python",
   "pygments_lexer": "ipython3",
   "version": "3.7.10"
  },
  "interpreter": {
   "hash": "98e8a86f1a80fa5964c775adedce0c1597264d02af6c8f426349aa657d6ada29"
  }
 },
 "nbformat": 4,
 "nbformat_minor": 4
}
